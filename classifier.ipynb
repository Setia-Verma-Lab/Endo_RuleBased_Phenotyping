{
 "cells": [
  {
   "cell_type": "markdown",
   "metadata": {},
   "source": [
    "# BMIN 5200 Foundations of Artificial Intelligence in Health\n",
    "\n",
    "Assignment 3: Expert Systems in clipspy"
   ]
  },
  {
   "cell_type": "code",
   "execution_count": 18,
   "metadata": {},
   "outputs": [],
   "source": [
    "import clips\n",
    "import sys\n",
    "sys.path.append('./src/')\n",
    "from clips_util import print_facts, print_rules, print_templates, build_read_assert"
   ]
  },
  {
   "cell_type": "code",
   "execution_count": 19,
   "metadata": {},
   "outputs": [],
   "source": [
    "# create the CLIPS environment\n",
    "env = clips.Environment()"
   ]
  },
  {
   "cell_type": "markdown",
   "metadata": {},
   "source": [
    "# Endometriosis Classification System\n",
    "\n",
    "Endometriosis Classification Algorithm:\n",
    "Using clipspy to implement an expert system that classifies a patient into one of the following categories:\n",
    "\n",
    "Outputs:\n",
    "1. Endometriosis\n",
    "2. Not Endometriosis (some other disease causing symptoms)\n",
    "3. Endometriosis and another concomitant disease"
   ]
  },
  {
   "cell_type": "markdown",
   "metadata": {},
   "source": [
    "![resource](reference/clinical_diagnosis_algo.png)"
   ]
  },
  {
   "cell_type": "markdown",
   "metadata": {},
   "source": [
    "# Templates"
   ]
  },
  {
   "cell_type": "markdown",
   "metadata": {},
   "source": [
    "## Part 1: Defining Fact Templates (that are consistent with endometriosis)\n",
    "\n",
    "This section defines and builds all of the templates that are needed to track and evalute facts associated with inclusion criteria."
   ]
  },
  {
   "cell_type": "code",
   "execution_count": 20,
   "metadata": {},
   "outputs": [],
   "source": [
    "DEFTEMPLATE_PATIENT_ENDOMETRIOSIS_SYMPTOMS = \"\"\"\n",
    "(deftemplate patient_endo_symptoms\n",
    "    (slot abdominal_pelvic_pain (type SYMBOL)\n",
    "        (allowed-symbols yes no unknown))\n",
    "    (slot dysmenorrhea (type SYMBOL)\n",
    "        (allowed-symbols yes no unknown))\n",
    "    (slot pain_with_sex (type SYMBOL)\n",
    "        (allowed-symbols yes no unknown))\n",
    "    (slot dyschezia (type SYMBOL)\n",
    "        (allowed-symbols yes no unknown))\n",
    "    (slot dysuria (type SYMBOL)\n",
    "        (allowed-symbols yes no unknown))\n",
    "    (slot infertility (type SYMBOL)\n",
    "        (allowed-symbols yes no unknown))\n",
    "    (slot pelvic_perineal_pain (type SYMBOL)\n",
    "        (allowed-symbols yes no unknown))\n",
    "\n",
    "    )\n",
    "\"\"\"\n",
    "env.build(DEFTEMPLATE_PATIENT_ENDOMETRIOSIS_SYMPTOMS)\n",
    "\n",
    "# patient concomitant disease symptoms\n",
    "DEFTEMPLATE_PATIENT_CONCOMITANT_DISEASE_SYMPTOMS = \"\"\"\n",
    "(deftemplate patient_concomitant_disease_symptoms\n",
    "    (slot amenorrhea (type SYMBOL) \n",
    "        (allowed-symbols yes no unknown))\n",
    "    (slot constipation (type SYMBOL)\n",
    "        (allowed-symbols yes no unknown))\n",
    "    (slot diarrhea (type SYMBOL)\n",
    "        (allowed-symbols yes no unknown))\n",
    "    (slot flank_pain (type SYMBOL)\n",
    "        (allowed-symbols yes no unknown))\n",
    "    (slot hematuria (type SYMBOL)\n",
    "        (allowed-symbols yes no unknown))\n",
    "    (slot frequent_urination (type SYMBOL)\n",
    "        (allowed-symbols yes no unknown))\n",
    "    (slot adenomyosis (type SYMBOL)\n",
    "        (allowed-symbols yes no unknown))\n",
    "\n",
    ")\n",
    "\"\"\"\n",
    "env.build(DEFTEMPLATE_PATIENT_CONCOMITANT_DISEASE_SYMPTOMS)\n"
   ]
  },
  {
   "cell_type": "markdown",
   "metadata": {},
   "source": [
    "## Part 2: Defining Fact Templates (factors indicating to consider another diagnossis in addition to OR instead of endometriosis)\n",
    "Consistent with / not consistent wtih endo Fact Templates"
   ]
  },
  {
   "cell_type": "markdown",
   "metadata": {},
   "source": [
    "## Consistent with / not consistent with endo Fact Templates\n",
    "This section defines and builds all of the templates that are needed to track and evalute whether inclusion, exclusion, criteria for endometriosis and/or concomitant diseases."
   ]
  },
  {
   "cell_type": "code",
   "execution_count": 21,
   "metadata": {},
   "outputs": [],
   "source": [
    "# participant inclusion criteria met status\n",
    "DEFTEMPLATE_ENDOMETRIOSIS_INCLUSION = \"\"\"\n",
    "(deftemplate endometriosis_inclusion\n",
    "    (slot meets_criteria (type SYMBOL)\n",
    "        (allowed-symbols yes no unknown))\n",
    ")\n",
    "\"\"\"\n",
    "env.build(DEFTEMPLATE_ENDOMETRIOSIS_INCLUSION)\n",
    "\n",
    "# participant trial eligibility status\n",
    "DEFTEMPLATE_CONCOMITANT_DISEASE_INCLUSION = \"\"\"\n",
    "(deftemplate concomitant_disease_inclusion\n",
    "    (slot meets_criteria (type SYMBOL)\n",
    "    (allowed-symbols yes no unknown possible))\n",
    ")\n",
    "\"\"\"\n",
    "env.build(DEFTEMPLATE_CONCOMITANT_DISEASE_INCLUSION)"
   ]
  },
  {
   "cell_type": "markdown",
   "metadata": {},
   "source": [
    "# Initialize Knowledge Base\n",
    "\n",
    "This section adds the necessary `deffacts`. These include four facts with slot values set to `unknown` to prevent some rules from firing at inappropriate times. As different rules are executed and facts asserted, these slot values will be updated so that, through chaining, other rules will then fire as needed. You should review the already implemented `defrules` carefully to understand how these work."
   ]
  },
  {
   "cell_type": "code",
   "execution_count": 22,
   "metadata": {},
   "outputs": [],
   "source": [
    "# Add deffacts that the inclusion, exclusion, trial eligibility, and child bearing status are all unknown\n",
    "DEFFCATS_INITIAL_STATUS = \"\"\"\n",
    "(deffacts starting_inclusion_exclusion_facts \"Set the inclusion criteria met to unknown\"\n",
    "    (endometriosis_inclusion (meets_criteria unknown))\n",
    "    (concomitant_disease_inclusion (meets_criteria unknown))\n",
    ")\n",
    "\"\"\"\n",
    "env.build(DEFFCATS_INITIAL_STATUS)\n",
    "\n",
    "# reset the environment to make sure the deffacts are added\n",
    "env.reset()"
   ]
  },
  {
   "cell_type": "markdown",
   "metadata": {},
   "source": [
    "# Inference Rules"
   ]
  },
  {
   "cell_type": "markdown",
   "metadata": {},
   "source": [
    "## Inclusion Criteria Rules\n",
    "\n",
    "The `defrules` in this section support gathering user input about the patient relative to the inclusion criteria and determining if the inclusion criteria are met. Notice that if the initial criteria (age, Karnofsky quality of life, life expectancy, and HIV status) are not met, no further information is collected as it is already known that trial eligibility will not be satisfied. If the initial inclusion criteria are met, then the value of the patient's sex is requested. If the patient is female, yet more information is requested."
   ]
  },
  {
   "cell_type": "code",
   "execution_count": 33,
   "metadata": {},
   "outputs": [],
   "source": [
    "# # These are the prompts that will be displayed to the user when requesting various template:slot inputs.\n",
    "# prompt_map = {\n",
    "#     \"patient:name_is\": \"Enter patient name: \",\n",
    "#     \"patient:age_is\": \"Enter patient age (in years): \",\n",
    "#     \"pelvic_pain:has_pain\": \"Does the patient have acute pelvic pain (yes or no or unknown)?: \",\n",
    "#     \"dysmenorrhea:has_dysmenorrhea\": \"Does the patient have dysmenorrhea (yes or no or unknown)?: \",\n",
    "#     \"dyspareunia:has_dyspareunia\": \"Does the patient have dyspareunia (yes or no or unknown)?: \",\n",
    "#     \"dyschezia:has_dyschezia\" : \"Does the patient have dyschezia (yes or no or unknown)?: \",\n",
    "#     \"dysuria:has_dysuria\" : \"Does the patient have dysuria (yes or no or unknown)?: \",\n",
    "#     \"infertility:is_infertile\" : \"Is the patient infertile (yes or no or unknown)?: \",\n",
    "#     \"chronic_pelvic_pain:has_chronic_pelvic_pain\" : \"Does the patient have chronic pelvic pain (peritonitis) (yes or no or unknown)?: \",\n",
    "#     \"amenorrhea:has_amenorrhea\" : \"Does the patient have amenorrhea (yes or no or unknown)?: \",\n",
    "#     \"constipation:has_constipation\" : \"Does the patient have constipation related to IBS (yes or no or unknown)?: \",\n",
    "#     \"diarrhea:has_diarrhea\" : \"Does the patient have diarrhea (yes or no or unknown)?: \",\n",
    "#     \"flank_pain:has_flank_pain\" : \"Does the patient have flank pain (yes or no or unknown)?: \",\n",
    "#     \"hematuria:has_hematuria\" : \"Does the patient have hematuria (yes or no or unknown)?: \",\n",
    "#     \"frequent_urination:has_frequent_urination\" : \"Does the patient have frequent urination (yes or no or unknonw)?: \", \n",
    "#     \"adenomyosis:has_adenomyosis\" : \"Does the patient have adenomyosis (yes or no or unknown)?: \"\n",
    "# }\n",
    "# build_read_assert(env, prompt_map) # see src/clips_util.py for implementation and demos/clips/clips_basics.ipynb for usage\n",
    "\n",
    "# DEFRULE_READ_INITIAL_INCLUSION = \"\"\"\n",
    "# (defrule reading_input_initial\n",
    "#     =>\n",
    "#     (read_assert patient_endo_symptoms)\n",
    "#     (read_assert patient_concomitant_disease_symptoms)\n",
    "# )\n",
    "# \"\"\"\n",
    "# env.build(DEFRULE_READ_INITIAL_INCLUSION)\n",
    "\n",
    "# ; RULE: Inclusion Criteria Are Not Met\n",
    "# ; *Forward chaining to determine if participant is not eligible for study based on inclusion criteria facts\n",
    "# ; INPUT: Criteria based on inclusion criteria defined in study. \n",
    "# ; OUTPUT: Trial eligibility No, Inclusion Criteria Met No\n",
    "DEFRULE_ENDOMETRIOSIS_INCLUSION_CRITERIA_NOT_MET = \"\"\"\n",
    "(defrule inclusion-criteria-notmet \"Rule to define a person as not eligible for study based on inclusion criteria facts\"\n",
    "    (logical\n",
    "        (and\n",
    "            (patient_endo_symptoms (abdominal_pelvic_pain ~yes))  \n",
    "            (patient_endo_symptoms (dysmenorrhea ~yes))   \n",
    "            (patient_endo_symptoms (pain_with_sex ~yes)) \n",
    "            (patient_endo_symptoms (dyschezia ~yes)) \n",
    "            (patient_endo_symptoms (dysuria ~yes)) \n",
    "            (patient_endo_symptoms (infertility ~yes))   \n",
    "            (patient_endo_symptoms (pelvic_perineal_pain ~yes))\n",
    "        )\n",
    "    )\n",
    "\n",
    "    ?f1 <-(endometriosis_inclusion (meets_criteria unknown))\n",
    "\n",
    "    => \n",
    "\n",
    "    (modify ?f1 (meets_criteria no))\n",
    ")\n",
    "\"\"\"\n",
    "env.build(DEFRULE_ENDOMETRIOSIS_INCLUSION_CRITERIA_NOT_MET)\n",
    "\n",
    "# indicates presence of symptom(s) that are consistent with endometriosis\n",
    "DEFRULE_ENDOMETRIOSIS_INCLUSION_CRITERIA_MET = \"\"\"\n",
    "(defrule inclusion-criteria-met \"Rule to define a person as having symptom(s) consistent with endometriosis based on inclusion criteria facts\"\n",
    "    (logical\n",
    "        (or\n",
    "            (patient_endo_symptoms (abdominal_pelvic_pain yes))  \n",
    "            (patient_endo_symptoms (dysmenorrhea yes))   \n",
    "            (patient_endo_symptoms (pain_with_sex yes)) \n",
    "            (patient_endo_symptoms (dyschezia yes)) \n",
    "            (patient_endo_symptoms (dysuria yes)) \n",
    "            (patient_endo_symptoms (infertility yes))   \n",
    "            (patient_endo_symptoms (pelvic_perineal_pain yes))\n",
    "        )\n",
    "    )\n",
    "\n",
    "    ?f1 <-(endometriosis_inclusion (meets_criteria unknown))\n",
    "\n",
    "    => \n",
    "\n",
    "    (modify ?f1 (meets_criteria yes))\n",
    ")\n",
    "\"\"\"\n",
    "env.build(DEFRULE_ENDOMETRIOSIS_INCLUSION_CRITERIA_MET)\n",
    "\n",
    "# indicates presence of symptoms that indicate no concomitant disease (along with or instead of) endometriosis\n",
    "DEFRULE_CONCOMITANT_DISEASE_INCLUSION_CRITERIA_NOT_MET = \"\"\"\n",
    "(defrule inclusion-criteria-not-met \"Rule to define a person as having symptom(s) not consistent with other (non-endo) disease based on inclusion criteria facts\"\n",
    "    (logical\n",
    "        (and\n",
    "            (patient_concomitant_disease_symptoms (amenorrhea ~yes))  \n",
    "            (patient_concomitant_disease_symptoms (constipation ~yes))   \n",
    "            (patient_concomitant_disease_symptoms (diarrhea ~yes)) \n",
    "            (patient_concomitant_disease_symptoms (flank_pain ~yes)) \n",
    "            (patient_concomitant_disease_symptoms (hematuria ~yes)) \n",
    "            (patient_concomitant_disease_symptoms (frequent_urination ~yes))   \n",
    "            (patient_concomitant_disease_symptoms (adenomyosis ~yes))\n",
    "        )\n",
    "    )\n",
    "\n",
    "    ?f1 <-(concomitant_disease_inclusion (meets_criteria unknown))\n",
    "\n",
    "    => \n",
    "\n",
    "    (modify ?f1 (meets_criteria no))\n",
    ")\n",
    "\"\"\"\n",
    "env.build(DEFRULE_CONCOMITANT_DISEASE_INCLUSION_CRITERIA_NOT_MET)\n",
    "\n",
    "# indicates presence of symptoms that indicate concomitant disease (along with or instead of) endometriosis\n",
    "DEFRULE_CONCOMITANT_DISEASE_INCLUSION_CRITERIA_MET = \"\"\"\n",
    "(defrule inclusion-criteria-met \"Rule to define a person as having symptom(s) consistent with other (non-endo) disease based on inclusion criteria facts\"\n",
    "    (logical\n",
    "        (or\n",
    "            (patient_concomitant_disease_symptoms (amenorrhea yes))  \n",
    "            (patient_concomitant_disease_symptoms (constipation yes))   \n",
    "            (patient_concomitant_disease_symptoms (diarrhea yes)) \n",
    "            (patient_concomitant_disease_symptoms (flank_pain yes)) \n",
    "            (patient_concomitant_disease_symptoms (hematuria yes)) \n",
    "            (patient_concomitant_disease_symptoms (frequent_urination yes))   \n",
    "            (patient_concomitant_disease_symptoms (adenomyosis yes))\n",
    "        )\n",
    "    )\n",
    "\n",
    "    ?f1 <-(concomitant_disease_inclusion (meets_criteria unknown))\n",
    "\n",
    "    => \n",
    "\n",
    "    (modify ?f1 (meets_criteria yes))\n",
    ")\n",
    "\"\"\"\n",
    "env.build(DEFRULE_CONCOMITANT_DISEASE_INCLUSION_CRITERIA_MET)\n",
    "# not going to try and classify the concomitant disease - but will factor whether they do have a concomitant disease (IBS, or interstitial cystitis, or adenomyosis) in my evaluation\n",
    "    # because I don't have detailed symptom data for all of the concomitant diseases, only some of them\n"
   ]
  },
  {
   "cell_type": "markdown",
   "metadata": {},
   "source": [
    "## Inclusion Criteria Status Reporting Rules\n",
    "\n",
    "The cell below defines `defrules` that fire once it is determine if the inclusion criteria are satisfied or not to report the status to the user."
   ]
  },
  {
   "cell_type": "code",
   "execution_count": null,
   "metadata": {},
   "outputs": [],
   "source": [
    "evaluation_dict = {'only_endo_predicted':0, 'only_endo_actual':0, 'only_concomitant_predicted':0, 'only_concomitant_actual':0, 'both_endo_concomitant_predicted':0, 'both_endo_concomitant_actual':0, 'neither_endo_concomitant_predicted':0, 'neither_endo_concomitant_actual':0}\n",
    "\n",
    "def store_result(*args):\n",
    "    endo, other = args\n",
    "    if endo == \"endo_0\" and other == \"other_0\":\n",
    "        evaluation_dict['neither_endo_concomitant_predicted'] += 1\n",
    "    elif endo == \"endo_0\" and other == \"other_1\":\n",
    "        evaluation_dict['only_concomitant_predicted'] += 1\n",
    "    elif endo == \"endo_1\" and other == \"other_0\":\n",
    "        evaluation_dict['only_endo_predicted'] += 1\n",
    "    elif endo == \"endo_1\" and other == \"other_1\":\n",
    "        evaluation_dict['both_endo_concomitant_predicted'] += 1\n",
    "\n",
    "env.define_function(store_result)"
   ]
  },
  {
   "cell_type": "code",
   "execution_count": null,
   "metadata": {},
   "outputs": [],
   "source": [
    "DEFRULE_ENDOMETRIOSIS_AND_CONCOMITANT_INCLUSION = \"\"\"\n",
    "(defrule endo-and-concoomitant-inclusion\n",
    "    (endometriosis_inclusion (meets_criteria yes))\n",
    "    (concomitant_disease_inclusion (meets_criteria yes))\n",
    "    =>\n",
    "    (println \"___________\")\n",
    "    (println \"Symptoms are consistent with both endometriosis and presence of concomitant disease. [recommendation]\")\n",
    "    (println \"___________\")\n",
    "    (store_result endo_1 other_1)\n",
    ")\n",
    "\"\"\"\n",
    "env.build(DEFRULE_ENDOMETRIOSIS_AND_CONCOMITANT_INCLUSION)\n",
    "\n",
    "DEFRULE_ENDOMETRIOSIS_AND_CONCOMITANT_EXCLUSION = \"\"\"\n",
    "(defrule endo-and-concoomitant-inclusion\n",
    "    (endometriosis_inclusion (meets_criteria no))\n",
    "    (concomitant_disease_inclusion (meets_criteria no))\n",
    "    =>\n",
    "    (println \"___________\")\n",
    "    (println \"Symptoms are consistent with neither endometriosis nor concomitant diseases that we screened for (IBS, adenomyosis, others). [recommendation]\")\n",
    "    (println \"___________\")\n",
    "    (store_result endo_0 other_0)\n",
    ")\n",
    "\"\"\"\n",
    "env.build(DEFRULE_ENDOMETRIOSIS_AND_CONCOMITANT_EXCLUSION)\n",
    "\n",
    "DEFRULE_ONLY_ENDOMETRIOSIS_INCLUSION = \"\"\"\n",
    "(defrule only-endo-inclusion\n",
    "    (endometriosis_inclusion (meets_criteria yes))\n",
    "    (concomitant_disease_inclusion (meets_criteria no))\n",
    "    =>\n",
    "    (println \"___________\")\n",
    "    (println \"Patient has symptom(s) consistent only with endometriosis and not additional diseases\")\n",
    "    (println \"___________\")\n",
    "    (store_result endo_1 other_0)\n",
    ")\n",
    "\"\"\"\n",
    "env.build(DEFRULE_ONLY_ENDOMETRIOSIS_INCLUSION)\n",
    "\n",
    "DEFRULE_ONLY_ENDOMETRIOSIS_EXCLUSION = \"\"\"\n",
    "(defrule only-endo-exclusion\n",
    "    (endometriosis_inclusion (meets_criteria no))\n",
    "    (concomitant_disease_inclusion (meets_criteria yes))\n",
    "    =>\n",
    "    (println \"___________\")\n",
    "    (println \"Patient has symptom(s) consistent only with non-endo diseases\")\n",
    "    (println \"___________\")\n",
    "    (store_result endo_0 other_1)\n",
    ")\n",
    "\"\"\"\n",
    "env.build(DEFRULE_ONLY_ENDOMETRIOSIS_EXCLUSION)"
   ]
  },
  {
   "cell_type": "markdown",
   "metadata": {},
   "source": [
    "# Execution\n",
    "You should use the cells below to test the system behavior while implementing the `defrules` in this assignment. "
   ]
  },
  {
   "cell_type": "code",
   "execution_count": null,
   "metadata": {},
   "outputs": [],
   "source": [
    "env.reset();\n",
    "env.run();"
   ]
  },
  {
   "cell_type": "code",
   "execution_count": null,
   "metadata": {},
   "outputs": [],
   "source": [
    "print_facts(env)"
   ]
  },
  {
   "cell_type": "markdown",
   "metadata": {},
   "source": [
    "## Evaluating Expert System Performance"
   ]
  },
  {
   "cell_type": "code",
   "execution_count": null,
   "metadata": {},
   "outputs": [],
   "source": [
    "# three outputs\n",
    "# calculate accuracy, PPV, NPV for each case\n",
    "\n",
    "# and ablation analysis\n",
    "\n",
    "# input data path: /project/ssverma_shared/projects/Endometriosis/Endo_RuleBased_Phenotyping/symptom_pulls/Pheno/PMBB_2.3_pheno_covars.csv"
   ]
  }
 ],
 "metadata": {
  "kernelspec": {
   "display_name": "Python 3",
   "language": "python",
   "name": "python3"
  },
  "language_info": {
   "codemirror_mode": {
    "name": "ipython",
    "version": 3
   },
   "file_extension": ".py",
   "mimetype": "text/x-python",
   "name": "python",
   "nbconvert_exporter": "python",
   "pygments_lexer": "ipython3",
   "version": "3.12.7"
  }
 },
 "nbformat": 4,
 "nbformat_minor": 2
}
