{
 "cells": [
  {
   "cell_type": "code",
   "execution_count": 1,
   "metadata": {},
   "outputs": [],
   "source": [
    "import clips\n",
    "import sys\n",
    "sys.path.append('./src/')\n",
    "from clips_util import print_facts, print_rules, print_templates, build_read_assert"
   ]
  },
  {
   "cell_type": "code",
   "execution_count": 2,
   "metadata": {},
   "outputs": [],
   "source": [
    "# create the CLIPS environment\n",
    "env = clips.Environment()"
   ]
  },
  {
   "cell_type": "markdown",
   "metadata": {},
   "source": [
    "Endometriosis Classification Algorithm:\n",
    "Using clipspy to implement an expert system that classifies a patient into one of the following categories:\n",
    "\n",
    "Outputs:\n",
    "1. Endometriosis\n",
    "2. Not Endometriosis (some other disease causing symptoms)\n",
    "3. Endometriosis and another concomitant disease"
   ]
  },
  {
   "cell_type": "markdown",
   "metadata": {},
   "source": []
  }
 ],
 "metadata": {
  "kernelspec": {
   "display_name": "Python 3",
   "language": "python",
   "name": "python3"
  },
  "language_info": {
   "codemirror_mode": {
    "name": "ipython",
    "version": 3
   },
   "file_extension": ".py",
   "mimetype": "text/x-python",
   "name": "python",
   "nbconvert_exporter": "python",
   "pygments_lexer": "ipython3",
   "version": "3.12.7"
  }
 },
 "nbformat": 4,
 "nbformat_minor": 2
}
