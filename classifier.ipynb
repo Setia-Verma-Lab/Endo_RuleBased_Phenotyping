{
 "cells": [
  {
   "cell_type": "markdown",
   "metadata": {},
   "source": [
    "# BMIN 5200 Foundations of Artificial Intelligence in Health\n",
    "\n",
    "Assignment 3: Expert Systems in clipspy"
   ]
  },
  {
   "cell_type": "code",
   "execution_count": 1,
   "metadata": {},
   "outputs": [],
   "source": [
    "import clips\n",
    "import sys\n",
    "sys.path.append('./src/')\n",
    "from clips_util import print_facts, print_rules, print_templates, build_read_assert"
   ]
  },
  {
   "cell_type": "code",
   "execution_count": 2,
   "metadata": {},
   "outputs": [],
   "source": [
    "# create the CLIPS environment\n",
    "env = clips.Environment()"
   ]
  },
  {
   "cell_type": "markdown",
   "metadata": {},
   "source": [
    "# Endometriosis Classification System\n",
    "\n",
    "Endometriosis Classification Algorithm:\n",
    "Using clipspy to implement an expert system that classifies a patient into one of the following categories:\n",
    "\n",
    "Outputs:\n",
    "1. Endometriosis\n",
    "2. Not Endometriosis (some other disease causing symptoms)\n",
    "3. Endometriosis and another concomitant disease"
   ]
  },
  {
   "cell_type": "markdown",
   "metadata": {},
   "source": [
    "![resource](reference/clinical_diagnosis_algo.png)"
   ]
  },
  {
   "cell_type": "markdown",
   "metadata": {},
   "source": [
    "# Templates"
   ]
  },
  {
   "cell_type": "markdown",
   "metadata": {},
   "source": [
    "## Part 1: Defining Fact Templates (that are consistent with endometriosis)\n",
    "\n",
    "This section defines and builds all of the templates that are needed to track and evalute facts associated with inclusion criteria."
   ]
  },
  {
   "cell_type": "code",
   "execution_count": null,
   "metadata": {},
   "outputs": [],
   "source": [
    "# basic patient information\n",
    "# TASK: Fill in slots for the `patient` template corresponding to name, age, and sex. Use\n",
    "# appropriate datatypes. \n",
    "##################### YOUR CODE BELOW! ######################\n",
    "DEFTEMPLATE_PATIENT = \"\"\"\n",
    "(deftemplate patient \n",
    "    ; Slots go here!\n",
    "    )\n",
    "\"\"\"\n",
    "env.build(DEFTEMPLATE_PATIENT)\n",
    "##################### YOUR CODE ABOVE! ######################\n",
    "\n",
    "# participant life expectancy\n",
    "DEFTEMPLATE_LIFE_EXPECTANCY = \"\"\"\n",
    "(deftemplate life_expect\n",
    "    (slot years_expected_is (type INTEGER))\n",
    ")\n",
    "\"\"\"\n",
    "env.build(DEFTEMPLATE_LIFE_EXPECTANCY)\n",
    "\n",
    "# participant Karnofsky quality of life score\n",
    "DEFTEMPLATE_KARNOFSKY = \"\"\"\n",
    "(deftemplate karnofsky\n",
    "  (slot performance_status_is (type INTEGER)\n",
    "    (range 0 100)) \n",
    ")\n",
    "\"\"\"\n",
    "env.build(DEFTEMPLATE_KARNOFSKY)\n",
    "\n",
    "# participant HIV ELISA test result\n",
    "DEFTEMPLATE_HIV = \"\"\"\n",
    "(deftemplate hiv_testing\n",
    "    (slot hiv_elisa_is (type SYMBOL)\n",
    "        (allowed-symbols positive negative))\n",
    ")\n",
    "\"\"\"\n",
    "env.build(DEFTEMPLATE_HIV)\n",
    "\n",
    "# participant (if female) child bearing age status\n",
    "DEFTEMPLATE_CHILD_BEARING = \"\"\"\n",
    "(deftemplate child_bearing\n",
    "   (slot of_child_bearing_age (type SYMBOL)\n",
    "        (allowed-symbols yes no unknown)))\n",
    "\"\"\"\n",
    "env.build(DEFTEMPLATE_CHILD_BEARING)\n",
    "\n",
    "# participant pregnancy status\n",
    "DEFTEMPLATE_PREGNANCY = \"\"\"\n",
    "(deftemplate serum_preg    \n",
    "    (slot preg_test_is (type SYMBOL)\n",
    "        (allowed-symbols positive negative))\n",
    ")\n",
    "\"\"\"\n",
    "env.build(DEFTEMPLATE_PREGNANCY)\n",
    "\n",
    "# participant birth control status\n",
    "DEFTEMPLATE_BIRTH_CONTROL = \"\"\"\n",
    "(deftemplate birth_control\n",
    "    (slot on_birth_control (type SYMBOL)\n",
    "        (allowed-symbols yes no))\n",
    ")\n",
    "\"\"\"\n",
    "env.build(DEFTEMPLATE_BIRTH_CONTROL)"
   ]
  },
  {
   "cell_type": "markdown",
   "metadata": {},
   "source": [
    "## Part 2: Defining Fact Templates (factors indicating to consider another diagnossis in addition to OR instead of endometriosis)\n",
    "This section defines and builds all of the templates that are needed to track and evalute facts associated with inclusion criteria."
   ]
  },
  {
   "cell_type": "code",
   "execution_count": null,
   "metadata": {},
   "outputs": [],
   "source": [
    "# participant in another study\n",
    "# Task: create a deftemplate called `other_study` and have it store\n",
    "# a single slot specifying a symbol yes/no whether the patient is enrolled in another study.\n",
    "# This slot can be called is_other_study_participant\n",
    "##################### YOUR CODE BELOW! ######################\n",
    "DEFTEMPLATE_OTHER_STUDY = \"\"\"\n",
    "(deftemplate other_study\n",
    "    \n",
    ")\n",
    "\"\"\"\n",
    "env.build(DEFTEMPLATE_OTHER_STUDY)\n",
    "##################### YOUR CODE ABOVE! ######################\n",
    "\n",
    "\n",
    "# participant taking any drugs status\n",
    "DEFTEMPLATE_DRUGS = \"\"\"\n",
    "(deftemplate any_drugs\n",
    "    (slot has_taken_drugs (type SYMBOL)\n",
    "        (allowed-symbols yes no))\n",
    ")\n",
    "\"\"\"\n",
    "env.build(DEFTEMPLATE_DRUGS)\n",
    "\n",
    "# participant hemoglobin level\n",
    "DEFTEMPLATE_HEMOGLOBIN = \"\"\"\n",
    "(deftemplate hemoglobin\n",
    "    (slot hemoglobin_count_is (type FLOAT))\n",
    ")\n",
    "\"\"\"\n",
    "env.build(DEFTEMPLATE_HEMOGLOBIN)\n",
    "\n",
    "# participant neutrophil (white blood cell) count\n",
    "DEFTEMPLATE_NEUTROPHIL = \"\"\"\n",
    "(deftemplate neutrophil \n",
    "    (slot neutrophil_count_is (type FLOAT))\n",
    ")\n",
    "\"\"\"\n",
    "env.build(DEFTEMPLATE_NEUTROPHIL)"
   ]
  },
  {
   "cell_type": "markdown",
   "metadata": {},
   "source": [
    "## Consistent with / not consistent wtih endo Fact Templates\n",
    "This section defines and builds all of the templates that are needed to track and evalute whether inclusion, exclusion, and trial eligibility criteria are met."
   ]
  },
  {
   "cell_type": "code",
   "execution_count": null,
   "metadata": {},
   "outputs": [],
   "source": [
    "# participant inclusion criteria met status\n",
    "DEFTEMPLATE_INCLUSION = \"\"\"\n",
    "(deftemplate inclusion\n",
    "    (slot criteria_met (type SYMBOL)\n",
    "        (allowed-symbols yes no unknown))\n",
    ")\n",
    "\"\"\"\n",
    "env.build(DEFTEMPLATE_INCLUSION)\n",
    "\n",
    "# participant exclusion criteria met status\n",
    "DEFTEMPLATE_EXCLUSION = \"\"\"\n",
    "(deftemplate exclusion\n",
    "    (slot criteria_met (type SYMBOL)\n",
    "        (allowed-symbols yes no unknown))\n",
    ")\n",
    "\"\"\"\n",
    "env.build(DEFTEMPLATE_EXCLUSION)\n",
    "\n",
    "# participant trial eligibility status\n",
    "DEFTEMPLATE_TRIAL_ELIGIBILITY = \"\"\"\n",
    "(deftemplate hiv_trial_inclusion\n",
    "    (slot meets_criteria (type SYMBOL)\n",
    "    (allowed-symbols yes no unknown possible))\n",
    ")\n",
    "\"\"\"\n",
    "env.build(DEFTEMPLATE_TRIAL_ELIGIBILITY)"
   ]
  },
  {
   "cell_type": "markdown",
   "metadata": {},
   "source": [
    "# Intiliaze Knowledge Base\n",
    "\n",
    "This section adds the necessary `deffacts`. These include four facts with slot values set to `unknown` to prevent some rules from firing at inappropriate times. As different rules are executed and facts asserted, these slot values will be updated so that, through chaining, other rules will then fire as needed. You should review the already implemented `defrules` carefully to understand how these work."
   ]
  },
  {
   "cell_type": "code",
   "execution_count": null,
   "metadata": {},
   "outputs": [],
   "source": [
    "# Add deffacts that the inclusion, exclusion, trial eligibility, and child bearing status are all unknown\n",
    "DEFFCATS_INITIAL_STATUS = \"\"\"\n",
    "(deffacts starting_inclusion_exclusion_facts \"Set the inclusion criteria met to unknown\"\n",
    "    (hiv_trial_inclusion (meets_criteria unknown))\n",
    "    (inclusion (criteria_met unknown))\n",
    "    (exclusion (criteria_met unknown))\n",
    "    (child_bearing(of_child_bearing_age unknown))\n",
    ")\n",
    "\"\"\"\n",
    "env.build(DEFFCATS_INITIAL_STATUS)\n",
    "\n",
    "# reset the environment to make sure the deffacts are added\n",
    "env.reset()"
   ]
  },
  {
   "cell_type": "markdown",
   "metadata": {},
   "source": [
    "# Inference Rules"
   ]
  },
  {
   "cell_type": "markdown",
   "metadata": {},
   "source": [
    "## Inclusion Criteria Rules\n",
    "\n",
    "The `defrules` in this section support gathering user input about the patient relative to the inclusion criteria and determining if the inclusion criteria are met. Notice that if the initial criteria (age, Karnofsky quality of life, life expectancy, and HIV status) are not met, no further information is collected as it is already known that trial eligibility will not be satisfied. If the initial inclusion criteria are met, then the value of the patient's sex is requested. If the patient is female, yet more information is requested."
   ]
  },
  {
   "cell_type": "code",
   "execution_count": null,
   "metadata": {},
   "outputs": [],
   "source": [
    "# These are the prompts that will be displayed to the user when requesting various template:slot inputs.\n",
    "prompt_map = {\n",
    "    \"patient:name_is\": \"Enter patient name: \",\n",
    "    \"patient:age_is\": \"Enter patient age (in years): \",\n",
    "    \"patient:sex_is\": \"Enter patient sex (male or female): \",\n",
    "    \"life_expect:years_expected_is\": \"Enter patient life expectancy (in years): \",\n",
    "    \"karnofsky:performance_status_is\": \"Enter patient Karnofsky Performance Status (integer value): \",\n",
    "    \"hiv_testing:hiv_elisa_is\": \"Enter patient HIV status based on HIV Elisa test (positive or negative): \",\n",
    "    \"serum_preg:preg_test_is\" : \"What is the result of patient's pregnancy test (positive or negative)?: \",\n",
    "    \"birth_control:on_birth_control\" : \"Is the patient on birth control (yes or no)?: \",\n",
    "    \"other_study:is_other_study_participant\" : \"Is the patient participating in another study (yes or no)?: \",\n",
    "    \"any_drugs:has_taken_drugs\" : \"Has the patient taken any drugs in the past 3 days? (yes or no): \",\n",
    "    \"hemoglobin:hemoglobin_count_is\" : \"What is the Hemoglobin count? (provide number (units are grams/dl)): \",\n",
    "    \"neutrophil:neutrophil_count_is\" : \"What is the Neutrophil count? (provide number (units are cells/mm)): \"\n",
    "}\n",
    "build_read_assert(env, prompt_map) # see src/clips_util.py for implementation and demos/clips/clips_basics.ipynb for usage\n",
    "\n",
    "DEFRULE_READ_INITIAL_INCLUSION = \"\"\"\n",
    "(defrule reading_input_initial\n",
    "    =>\n",
    "    (read_assert patient)\n",
    "    (read_assert life_expect)\n",
    "    (read_assert karnofsky)\n",
    "    (read_assert hiv_testing)\n",
    ")\n",
    "\"\"\"\n",
    "env.build(DEFRULE_READ_INITIAL_INCLUSION)\n",
    "\n",
    "# Determine child bearing age status using forward chaining based on female sex and age\n",
    "# Only want this to run if the female candidate is not already excluded based on other criteria.\n",
    "DEFRULE_CHILD_BEARING_AGE = \"\"\"\n",
    "(defrule child_bearing_eval \"Evaluate for child_bearing age or not for possibly eligible females\"\n",
    "    (logical\n",
    "    \t(patient (age_is ?age) (sex_is female))\n",
    "    \t(test(>= ?age 18))\n",
    "    \t(test(< ?age 45)) ;commonly accepted standard of upper limit of child bearing age of 45\n",
    "    \t\n",
    "    \t(life_expect (years_expected_is ?life_expected))\n",
    "       (karnofsky (performance_status_is ?karnofsky_score))\n",
    "    \t(test (>= ?life_expected 1))\n",
    "      \t(test (>= ?karnofsky_score 60))\n",
    " \t\t(hiv_testing (hiv_elisa_is positive))\n",
    " \t)\n",
    "    \n",
    "    =>\n",
    "   \n",
    "    (assert (child_bearing(of_child_bearing_age yes)))\n",
    ")\n",
    "\"\"\"\n",
    "env.build(DEFRULE_CHILD_BEARING_AGE)\n",
    "\n",
    "\n",
    "# Get additional information from user if it is determined that participant is a child bearing age female. \n",
    "# Forward chaining to infer whether a female is still eligible by not being pregnant and having adequate pregnancy prevention\n",
    "DEFRULE_INPUT_PREG_EVAL = \"\"\"\n",
    "(defrule reading_input_preg_eval \"Ask for data on patient_pregnancy evaluation and birth control\"\n",
    "        (child_bearing(of_child_bearing_age yes))\n",
    "\n",
    "        =>\n",
    "        \n",
    "        (read_assert serum_preg)\n",
    "\n",
    ")\n",
    "\"\"\"\n",
    "env.build(DEFRULE_INPUT_PREG_EVAL)\n",
    "\n",
    "\n",
    "# Get additional information from user if it is determined that participant is of child bearing age, female, and not already pregnant\n",
    "# Supports forward chaining to infer whether a female is still eligible by not being pregnant and having adequate pregnancy prevention\n",
    "DEFRULE_INPUT_BC = \"\"\"\n",
    "(defrule reading_input_birthcontrol_eval \"Ask for data on birth control if the patient is of child-bearing age and not pregnant\"\n",
    "    (child_bearing(of_child_bearing_age yes))\n",
    "    (serum_preg (preg_test_is negative))\n",
    "    \n",
    "    =>\n",
    "    \n",
    "    ;(printout t \"Is the patient on birth control (yes or no)?: \")\n",
    "    ;(assert (birth-control (on-birth-control (read))))\n",
    "\n",
    "    (read_assert birth_control)\n",
    ")\n",
    "\"\"\"\n",
    "env.build(DEFRULE_INPUT_BC)\n",
    "\n",
    "# ; RULE: Inclusion Criteria Are Not Met\n",
    "# ; *Forward chaining to determine if participant is not eligible for study based on inclusion criteria facts\n",
    "# ; INPUT: Criteria based on inclusion criteria defined in study. \n",
    "# ; OUTPUT: Trial eligibility No, Inclusion Criteria Met No\n",
    "DEFRULE_INCLUSION_CRITERIA_NOT_MET = \"\"\"\n",
    "(defrule inclusion-criteria-notmet \"Rule to define a person as not eligible for study based on inclusion criteria facts\"\n",
    "    (logical\n",
    "        (patient (age_is ?age))\n",
    "        (life_expect (years_expected_is ?life_expected))\n",
    "        (karnofsky (performance_status_is ?karnofsky_score))\n",
    "        (or  ; An OR connector for any of the reasons that an inclusion is not met.\n",
    "        \t  (test (not (>= ?age 18)))  ; Age not greater than or equal to 18\n",
    "            (hiv_testing (hiv_elisa_is ~positive)) ; Not Positive HIV test\n",
    "            (test (not (>= ?life_expected 1))) ; Life expectancy Not greater than or equal to 1\n",
    "            (test (not (>= ?karnofsky_score 60))) ; Karnofsky score not greater than or equal to 60\n",
    "            \n",
    "            ;(female sex) and (of child bearing age) and ( (preg not neg) or (birth control not yes))\n",
    "            \n",
    "            (and \n",
    "                (patient (sex_is female)) \n",
    "                (child_bearing(of_child_bearing_age yes))\n",
    "                \n",
    "                (or\n",
    "                    (serum_preg (preg_test_is ~negative))\n",
    "                    (birth_control (on_birth_control ~yes))        \n",
    "                )\n",
    "            )\n",
    "        )    \n",
    "    )\n",
    "\n",
    "    ?f1 <-(hiv_trial_inclusion (meets_criteria unknown))\n",
    "    ?f2 <-(inclusion (criteria_met unknown))\n",
    "\n",
    "    => \n",
    "\n",
    "    (modify ?f1 (meets_criteria no))\n",
    "    (modify ?f2 (criteria_met no))\n",
    ")\n",
    "\"\"\"\n",
    "env.build(DEFRULE_INCLUSION_CRITERIA_NOT_MET)\n",
    "\n"
   ]
  },
  {
   "cell_type": "markdown",
   "metadata": {},
   "source": [
    "### Problem 1: 6 points\n",
    "\n",
    "In the code cell below, implement a clips `defrule` that fires if __all__ of the inclusion criteria are met. It should update the value of the slot `meets_criteria` to `possible` in the fact `hiv_trial_inclusion` and the value of the slot `criteria_met` to `yes` in the fact `inclusion`.  _HINT_: This rule will look very similar to the `DEFRULE_INCLUSION_CRITERIA_NOT_MET` defined in the code cell above."
   ]
  },
  {
   "cell_type": "code",
   "execution_count": null,
   "metadata": {},
   "outputs": [],
   "source": [
    "#######  YOUR CODE HERE ##########\n",
    "DEFRULE_INCLUSION_CRITERIA_MET = \"\"\"\n",
    "\n",
    "\"\"\"\n",
    "#######  END CODE HERE ##########\n",
    "env.build(DEFRULE_INCLUSION_CRITERIA_MET)"
   ]
  },
  {
   "cell_type": "markdown",
   "metadata": {},
   "source": [
    "## Inclusion Criteria Status Reporting Rules\n",
    "\n",
    "The cell below defines `defrules` that fire once it is determine if the inclusion criteria are satisfied or not to report the status to the user."
   ]
  },
  {
   "cell_type": "code",
   "execution_count": null,
   "metadata": {},
   "outputs": [],
   "source": [
    "DEFRULE_POSSIBLE_ELIGIBILITY = \"\"\"\n",
    "(defrule possibly-eligible\n",
    "    (inclusion (criteria_met yes))\n",
    "    =>\n",
    "    (println \"___________\")\n",
    "    (println \"All inclusion criteria are met, this patient is POSSIBLY ELIGIBLE for the study.\")\n",
    "    (println \"___________\")\n",
    "    (assert (start_exclusion yes)) \n",
    ")\n",
    "\"\"\"\n",
    "env.build(DEFRULE_POSSIBLE_ELIGIBILITY)\n",
    "\n",
    "DEFRULE_NOT_ELIGIBLE_INCLUSION = \"\"\"\n",
    "(defrule not-eligible-inclusion\n",
    "    (inclusion (criteria_met no))\n",
    "    =>\n",
    "    (println \"___________\")\n",
    "    (println \"Inclusion crtieria are NOT met. This patient is NOT ELIGIBLE for the study\")\n",
    "    (println \"___________\")\n",
    ")\n",
    "\"\"\"\n",
    "env.build(DEFRULE_NOT_ELIGIBLE_INCLUSION)"
   ]
  },
  {
   "cell_type": "markdown",
   "metadata": {},
   "source": [
    "## Exclusion Criteria Rules\n",
    "\n",
    "The `defrules` in this section support gathering user input about the patient relative to the exclusion criteria and determining if the exclusion criteria are met. "
   ]
  },
  {
   "cell_type": "code",
   "execution_count": null,
   "metadata": {},
   "outputs": [],
   "source": [
    "# Get addditional information related to exclusion criteria after determining if the participant is possibly eligible for the study \n",
    "# possibly eligible = meets all inclusion criteria, fact determined through forward chaining above\n",
    "DEFRULE_READ_INPUT_EXCLUSION = \"\"\"\n",
    "(defrule reading-input-exclusion \"Get extra information if inclusion criteria are complete regarding exclusion criteria\"\n",
    "    (inclusion (criteria_met yes))\n",
    "    (start_exclusion yes) ; This ensures reporting possibly eligible occurs before starting exclusion intake questions\n",
    "    (exclusion (criteria_met unknown))\n",
    "    \n",
    "    =>\n",
    "    \n",
    "    (read_assert other_study)\n",
    "    (read_assert any_drugs)\n",
    "    (read_assert hemoglobin)\n",
    "    (read_assert neutrophil)\n",
    "\n",
    ")\n",
    "\"\"\"\n",
    "env.build(DEFRULE_READ_INPUT_EXCLUSION)\n",
    "\n",
    "# ; RULE: Exclusion Criteria Are Met\n",
    "# ; *Forward chaining to determine if participant with fact of possible eligibility is actually not eligible for study based on exclusion criteria facts\n",
    "# ; INPUT: Criteria based on exclusion criteria defined in study + Inclusion Criteria are met\n",
    "# ; OUTPUT: Trial eligibility No, Exclusion Criteria Met Yes (If exclusion criteria are met, then the participant is not eligible for the study)\n",
    "DEFRULE_EXCLUSION_CRITERIA_MET = \"\"\"\n",
    "(defrule exclusion_criteria_met_check  \"Rule to check if any exclusion criteria are  met. If they are  met then the patient is NOT eligible\"\n",
    "    (logical\n",
    "        (inclusion (criteria_met yes))\n",
    "        (hemoglobin (hemoglobin_count_is ?hemoglobin_count))\n",
    "        (neutrophil (neutrophil_count_is ?neutrophil_count))\n",
    "        \n",
    "        (or (other_study(is_other_study_participant yes))\n",
    "            (any_drugs(has_taken_drugs yes))\n",
    "            (test (< ?hemoglobin_count 8.6))\n",
    "            (test (< ?neutrophil_count 1000))\n",
    "        )\n",
    "    )\n",
    "\n",
    "    ?f1 <-(hiv_trial_inclusion (meets_criteria possible))\n",
    "    ?f2<-(exclusion (criteria_met unknown))\n",
    " \n",
    "    => \n",
    "    \n",
    "    (modify ?f1 (meets_criteria no))\n",
    "    (modify ?f2 (criteria_met yes))\n",
    ")\n",
    "\"\"\"\n",
    "env.build(DEFRULE_EXCLUSION_CRITERIA_MET)\n"
   ]
  },
  {
   "cell_type": "markdown",
   "metadata": {},
   "source": [
    "## Problem 2: 6 points\n",
    "\n",
    "In the code cell below, implement a clips `defrule` that fires if __none__ of the exclusion criteria are met. It should update the value of the slot `meets_criteria` to `yes` in the fact `hiv_trial_inclusion` and the value of the slot `criteria_met` to `no` in the fact `exclusion`.  _HINT_: This rule will look very similar to the `DEFRULE_EXCLUSION_CRITERIA_MET` defined in the code cell above."
   ]
  },
  {
   "cell_type": "code",
   "execution_count": null,
   "metadata": {},
   "outputs": [],
   "source": [
    "#######  YOUR CODE HERE ##########\n",
    "DEFRULE_EXCLUSION_CRITERIA_NOT_MET = \"\"\"\n",
    "\n",
    "\"\"\"\n",
    "#######  END CODE HERE ##########\n",
    "env.build(DEFRULE_EXCLUSION_CRITERIA_NOT_MET)"
   ]
  },
  {
   "cell_type": "markdown",
   "metadata": {},
   "source": [
    "## Exclusion Criteria Reporting\n",
    "\n",
    "The cell below defines `defrules` that fire if it is determined that exclusion criteria are met to report the status to the user."
   ]
  },
  {
   "cell_type": "code",
   "execution_count": null,
   "metadata": {},
   "outputs": [],
   "source": [
    "DEFRULE_NOT_ELIGIBLE_EXCLUSION = \"\"\"\n",
    "(defrule not_eligible_exclusion\n",
    "    (exclusion (criteria_met yes))\n",
    "    (hiv_trial_inclusion (meets_criteria no))\n",
    "    =>\n",
    "    (println \"___________\")\n",
    "    (println \"All inclusion criteria are met BUT 1 or more exclusion criteria are met. This patient is NOT ELIGIBLE for the study.\")\n",
    "    (println \"___________\")\n",
    ")\n",
    "\"\"\"\n",
    "env.build(DEFRULE_NOT_ELIGIBLE_EXCLUSION)"
   ]
  },
  {
   "cell_type": "markdown",
   "metadata": {},
   "source": [
    "## Problem 3: 3 points\n",
    "\n",
    "In the code cell below, implement a clips `defrule` that fires if the patient is eligible for the trial.  _HINT_: This rule should check the status of the `meets_criteria` slot in the `hiv_trial_inclusion` fact and, if appropriate, print a statement indicating the participant is eligible."
   ]
  },
  {
   "cell_type": "code",
   "execution_count": null,
   "metadata": {},
   "outputs": [],
   "source": [
    "#######  YOUR CODE HERE ##########\n",
    "DEFRULE_TRIAL_ELIGIBLE = \"\"\"\n",
    "\n",
    "\"\"\"\n",
    "#######  END CODE HERE ##########\n",
    "env.build(DEFRULE_TRIAL_ELIGIBLE)"
   ]
  },
  {
   "cell_type": "markdown",
   "metadata": {},
   "source": [
    "# Execution\n",
    "You should use the cells below to test the system behavior while implementing the `defrules` in this assignment. "
   ]
  },
  {
   "cell_type": "code",
   "execution_count": null,
   "metadata": {},
   "outputs": [],
   "source": [
    "env.reset();\n",
    "env.run();"
   ]
  },
  {
   "cell_type": "code",
   "execution_count": null,
   "metadata": {},
   "outputs": [],
   "source": [
    "print_facts(env)"
   ]
  }
 ],
 "metadata": {
  "kernelspec": {
   "display_name": "Python 3",
   "language": "python",
   "name": "python3"
  },
  "language_info": {
   "codemirror_mode": {
    "name": "ipython",
    "version": 3
   },
   "file_extension": ".py",
   "mimetype": "text/x-python",
   "name": "python",
   "nbconvert_exporter": "python",
   "pygments_lexer": "ipython3",
   "version": "3.12.7"
  }
 },
 "nbformat": 4,
 "nbformat_minor": 2
}
